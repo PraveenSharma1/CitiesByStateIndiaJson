{
 "metadata": {
  "language_info": {
   "codemirror_mode": {
    "name": "ipython",
    "version": 3
   },
   "file_extension": ".py",
   "mimetype": "text/x-python",
   "name": "python",
   "nbconvert_exporter": "python",
   "pygments_lexer": "ipython3",
   "version": "3.8.5-final"
  },
  "orig_nbformat": 2,
  "kernelspec": {
   "name": "python_defaultSpec_1598200620520",
   "display_name": "Python 3.8.5 64-bit"
  }
 },
 "nbformat": 4,
 "nbformat_minor": 2,
 "cells": [
  {
   "cell_type": "code",
   "execution_count": 52,
   "metadata": {},
   "outputs": [],
   "source": [
    "from openpyxl import load_workbook\n",
    "import os\n",
    "import json"
   ]
  },
  {
   "cell_type": "code",
   "execution_count": 53,
   "metadata": {
    "tags": []
   },
   "outputs": [
    {
     "output_type": "stream",
     "name": "stdout",
     "text": "C:\\Users\\shubh\\Desktop\\countryData\\xlsx\n['Udir_2011_01_JAMMU_and_KASHMIR.xlsx', 'Udir_2011_02_HIMACHAL_PRADESH.xlsx', 'Udir_2011_03_PUNJAB.xlsx', 'Udir_2011_04_CHANDIGARH.xlsx', 'Udir_2011_05_UTTARAKHAND.xlsx', 'Udir_2011_06_HARYANA.xlsx', 'Udir_2011_07_NCT_OF_DELHI.xlsx', 'Udir_2011_09_UTTAR_PRADESH.xlsx', 'Udir_2011_10_BIHAR.xlsx', 'Udir_2011_11_SIKKIM.xlsx', 'Udir_2011_12_ARUNACHAL_PRADESH.xlsx', 'Udir_2011_13_NAGALAND.xlsx', 'Udir_2011_14_MANIPUR.xlsx', 'Udir_2011_15_MIZORAM.xlsx', 'Udir_2011_16_TRIPURA.xlsx', 'Udir_2011_17_MEGHALAYA.xlsx', 'Udir_2011_18_ASSAM.xlsx', 'Udir_2011_19_WEST_BENGAL.xlsx', 'Udir_2011_20_JHARKHAND.xlsx', 'Udir_2011_21_ODISHA.xlsx', 'Udir_2011_22_CHHATTISGARH.xlsx', 'Udir_2011_23_MADHYA_PRADESH.xlsx', 'Udir_2011_24_GUJARAT.xlsx', 'Udir_2011_25_DAMAN_and_DIU.xlsx', 'Udir_2011_26_DADRA_and_NAGAR_HAVELI.xlsx', 'Udir_2011_27_MAHARASHTRA.xlsx', 'Udir_2011_28_ANDHRA_PRADESH.xlsx', 'Udir_2011_29_KARNATAKA.xlsx', 'Udir_2011_30_GOA.xlsx', 'Udir_2011_31_LAKSHADWEEP.xlsx', 'Udir_2011_32_KERALA.xlsx', 'Udir_2011_33_TAMIL_NADU.xlsx', 'Udir_2011_34_PUDUCHERRY.xlsx']\n"
    }
   ],
   "source": [
    "os.chdir(\"C:\\\\Users\\\\shubh\\\\Desktop\\\\countryData\\\\xlsx\")\n",
    "path = os.getcwd()\n",
    "print(path)\n",
    "files = os.listdir()\n",
    "print(files)"
   ]
  },
  {
   "cell_type": "code",
   "execution_count": 69,
   "metadata": {
    "tags": []
   },
   "outputs": [],
   "source": [
    "lookup = {}\n",
    "for singleFile in files:\n",
    "    wb = load_workbook(singleFile)\n",
    "    ws = wb.active\n",
    "    rowNum = 3\n",
    "    while ws.cell(row=rowNum,column=1).value :\n",
    "        cityName = ws.cell(row=rowNum,column=4).value\n",
    "        stateName = ws.cell(row=rowNum,column=2).value\n",
    "        if stateName in lookup:\n",
    "            if (cityName in lookup[stateName]) == False:\n",
    "                lookup[stateName].append(cityName)\n",
    "        else:\n",
    "            lookup[stateName] = []\n",
    "            lookup[stateName].append(cityName)\n",
    "        rowNum += 1\n"
   ]
  },
  {
   "cell_type": "code",
   "execution_count": 72,
   "metadata": {
    "tags": []
   },
   "outputs": [
    {
     "output_type": "stream",
     "name": "stdout",
     "text": "{'JAMMU & KASHMIR': ['Kupwara', 'Badgam', 'Leh(Ladakh)', 'Kargil', 'Punch', 'Rajouri', 'Kathua', 'Baramula', 'Bandipore', 'Srinagar', 'Ganderbal', 'Pulwama', 'Shupiyan', 'Anantnag', 'Kulgam', 'Doda', 'Ramban', 'Kishtwar', 'Udhampur', 'Reasi', 'Jammu', 'Samba'], 'HIMACHAL PRADESH': ['Chamba', 'Kangra', 'Lahul & Spiti', 'Kullu', 'Mandi', 'Hamirpur', 'Una', 'Bilaspur', 'Solan', 'Sirmaur', 'Shimla', 'Kinnaur'], 'PUNJAB': ['Gurdaspur', 'Kapurthala ', 'Jalandhar', 'Hoshiarpur', 'Shahid Bhagat Singh Nagar ', 'Fatehgarh Sahib', 'Ludhiana', 'Moga', 'Firozpur', 'Muktsar', 'Faridkot', 'Bathinda', 'Mansa', 'Patiala', 'Amritsar ', 'Tarn Taran', 'Rupnagar', 'Sahibzada Ajit Singh Nagar', 'Sangrur', 'Barnala'], 'CHANDIGARH': ['Chandigarh'], 'UTTARAKHAND': ['Uttarkashi', 'Chamoli', 'Rudraprayag', 'Tehri Garhwal', 'UTTARAKHAND', 'Dehradun', 'Garhwal', 'Pithoragarh', 'Bageshwar', 'Almora', 'Champawat', 'Nainital', 'Udham Singh Nagar', 'Hardwar'], 'HARYANA': ['Panchkula', 'Ambala', 'Yamunanagar', 'Kurukshetra', 'Kaithal', 'Karnal', 'Panipat', 'Sonipat', 'Jind', 'Fatehabad', 'Sirsa', 'Hisar', 'Bhiwani', 'Rohtak', 'Jhajjar', 'Mahendragarh', 'Rewari', 'Gurgaon', 'Mewat ', 'Faridabad', 'Palwal '], 'NCT OF DELHI': ['North West', 'NCT OF DELHI', 'North', 'North East', 'East', 'New Delhi', 'Central', 'West', 'South West', 'South'], 'UTTAR PRADESH': ['Saharanpur', 'Muzaffarnagar', 'Bijnor', 'Moradabad', 'Rampur', 'Jyotiba Phule Nagar', 'Meerut', 'Baghpat', 'Ghaziabad', 'Gautam Buddha Nagar', 'Bulandshahr ', 'Aligarh', 'Mahamaya Nagar', 'Mathura', 'Agra', 'Firozabad', 'Mainpuri', 'Budaun', 'Bareilly', 'Pilibhit', 'Shahjahanpur', 'Kheri', 'Sitapur', 'Hardoi', 'Unnao', 'Lucknow', 'Rae Bareli', 'Farrukhabad', 'Kannauj', 'Etawah', 'Auraiya', 'Kanpur Dehat', 'Kanpur Nagar', 'Jalaun ', 'Jhansi', 'Lalitpur', 'Hamirpur', 'Mahoba', 'Banda', 'Chitrakoot', 'Fatehpur', 'Pratapgarh', 'Kaushambi', 'Allahabad ', 'Bara Banki', 'Faizabad', 'Ambedkar Nagar', 'Sultanpur', 'Bahraich', 'Shrawasti', 'Balrampur', 'Gonda', 'Siddharthnagar', 'Basti', 'Sant Kabir Nagar', 'Mahrajganj', 'Gorakhpur', 'Kushinagar', 'Deoria', 'Azamgarh', 'Mau', 'Ballia', 'Jaunpur', 'Ghazipur', 'Chandauli', 'Varanasi', 'Sant Ravidas Nagar (Bhadohi)', 'Mirzapur', 'Sonbhadra', 'Etah', 'Kanshiram Nagar'], 'BIHAR': ['Pashchim Champaran', 'Purba Champaran', 'Sheohar', 'Sitamarhi', 'Madhubani', 'Supaul', 'Araria', 'Kishanganj', 'Purnia', 'Katihar', 'Madhepura', 'Saharsa', 'Darbhanga', 'Muzaffarpur', 'Gopalganj', 'Siwan', 'Saran', 'Vaishali', 'Samastipur', 'Begusarai', 'Khagaria', 'Bhagalpur', 'Banka', 'Munger', 'Lakhisarai', 'Sheikhpura', 'Nalanda', 'Patna', 'Bhojpur', 'Buxar', 'Kaimur (Bhabua)', 'Rohtas', 'Aurangabad', 'Gaya', 'Nawada', 'Jamui', 'Jehanabad ', 'Arwal'], 'SIKKIM': ['North  District', 'West District', 'South District', 'East District'], 'ARUNACHAL PRADESH': ['Tawang', 'West Kameng', 'East Kameng', 'Papum Pare', 'Upper Subansiri', 'West Siang', 'East Siang', 'Upper Siang', 'Changlang', 'Tirap', 'Lower Subansiri', 'Kurung Kumey', 'Dibang Valley', 'Lower Dibang Valley', 'Lohit', 'Anjaw'], 'NAGALAND': ['Mon', 'Mokokchung', 'Zunheboto', 'Wokha', 'Dimapur ', 'Phek', 'Tuensang', 'Longleng', 'Kiphire', 'Kohima', 'Peren'], 'MANIPUR': ['Senapati', 'Tamenglong ', 'Churachandpur', 'Bishnupur', 'MANIPUR', 'Thoubal', 'Imphal West', 'Imphal East', 'Ukhrul', 'Chandel'], 'MIZORAM': ['Mamit', 'Kolasib', 'Aizawl', 'Champhai', 'Serchhip', 'Lunglei', 'Lawngtlai', 'Saiha'], 'TRIPURA': ['West Tripura ', 'South Tripura ', 'Dhalai', 'North Tripura'], 'MEGHALAYA': ['West Garo Hills', 'East Garo Hills', 'South Garo Hills', 'West Khasi Hills', 'Ribhoi', 'East Khasi Hills', 'Jaintia Hills'], 'ASSAM': ['Kokrajhar', 'Dhubri', 'Goalpara', 'Barpeta', 'Morigaon', 'Nagaon', 'Sonitpur', 'Lakhimpur', 'Dhemaji', 'Tinsukia', 'Dibrugarh', 'Sivasagar', 'Jorhat', 'Golaghat', 'Karbi Anglong', 'Dima Hasao', 'Cachar', 'Karimganj', 'Hailakandi', 'Bongaigaon', 'Chirang', 'Kamrup', 'Kamrup Metropolitan', 'Nalbari', 'Baksa', 'Darrang', 'Udalguri'], 'WEST BENGAL': ['Darjiling ', 'WEST BENGAL', 'Jalpaiguri ', 'Koch Bihar ', 'Uttar Dinajpur', 'Dakshin Dinajpur', 'Maldah ', 'Murshidabad ', 'Birbhum', 'Barddhaman ', 'Nadia ', 'North Twenty Four Parganas', 'Hugli ', 'Bankura ', 'Puruliya', 'Haora ', 'Kolkata', 'South Twenty Four Parganas', 'Paschim Medinipur', 'Purba Medinipur'], 'JHARKHAND': ['Garhwa ', 'Chatra', 'Kodarma', 'Giridih', 'Deoghar', 'Godda', 'Sahibganj', 'Pakur', 'Dhanbad', 'Bokaro', 'Lohardaga', 'Purbi Singhbhum', 'Palamu', 'Latehar', 'Hazaribagh', 'Ramgarh', 'Dumka', 'Jamtara', 'Ranchi', 'Khunti', 'Gumla', 'Simdega', 'Pashchimi Singhbhum', 'Saraikela-Kharsawan'], 'ODISHA': ['Bargarh', 'Jharsuguda', 'Sambalpur', 'Debagarh', 'Sundargarh', 'Kendujhar', 'Mayurbhanj', 'Baleshwar', 'Bhadrak', 'Kendrapara ', 'Jagatsinghapur ', 'Cuttack', 'Jajapur  ', 'Dhenkanal', 'Anugul  ', 'Nayagarh  ', 'Khordha ', 'Puri', 'Ganjam', 'Gajapati', 'Kandhamal', 'Baudh', 'Subarnapur', 'Balangir', 'Nuapada', 'Kalahandi', 'Rayagada  ', 'Nabarangapur ', 'Koraput', 'Malkangiri  '], 'CHHATTISGARH': ['Koriya', 'Surguja', 'Jashpur ', 'Raigarh', 'Korba ', 'Janjgir - Champa', 'Bilaspur', 'Kabeerdham', 'Rajnandgaon', 'Durg', 'Raipur', 'Mahasamund', 'Dhamtari ', 'Uttar Bastar Kanker', 'Bastar', 'Narayanpur', 'Dakshin Bastar Dantewada', 'Bijapur'], 'MADHYA PRADESH': ['Sheopur ', 'Morena', 'Bhind', 'Gwalior', 'Datia', 'Shivpuri', 'Tikamgarh', 'Chhatarpur', 'Panna', 'Sagar', 'Damoh', 'Satna', 'Rewa', 'Umaria', 'Neemuch ', 'Mandsaur', 'Ratlam', 'Ujjain', 'Shajapur', 'Dewas', 'Dhar', 'Indore', 'Khargone (West Nimar)', 'Barwani ', 'Rajgarh', 'Vidisha', 'Bhopal', 'Sehore', 'Raisen', 'Betul', 'Harda ', 'Hoshangabad', 'Katni ', 'Jabalpur', 'Narsimhapur', 'Dindori ', 'Mandla', 'Chhindwara', 'Seoni', 'Balaghat', 'Guna', 'Ashoknagar', 'Shahdol', 'Anuppur', 'Sidhi', 'Singrauli', 'Jhabua', 'Alirajpur', 'Khandwa (East Nimar)', 'Burhanpur'], 'GUJARAT': ['Kachchh', 'Banas Kantha', 'Patan  ', 'Mahesana', 'Sabar Kantha', 'Gandhinagar', 'Ahmadabad', 'Surendranagar', 'Rajkot', 'Jamnagar', 'Porbandar ', 'Junagadh', 'Amreli', 'Bhavnagar', 'Anand  ', 'Kheda', 'Panch Mahals', 'Dohad  ', 'Vadodara', 'Narmada', 'Bharuch', 'The Dangs', 'Navsari  ', 'Valsad', 'Surat', 'Tapi'], 'DAMAN & DIU': ['Diu', 'Daman'], 'DADRA & NAGAR HAVELI': ['Dadra & Nagar Haveli'], 'MAHARASHTRA': ['Nandurbar', 'Dhule', 'Jalgaon', 'Buldana', 'Akola', 'Washim', 'Amravati', 'Wardha', 'Nagpur', 'Bhandara', 'Gondiya', 'Gadchiroli', 'Chandrapur', 'Yavatmal', 'Nanded', 'Hingoli', 'Parbhani', 'Jalna', 'Aurangabad', 'Nashik', 'Thane', 'Mumbai Suburban', 'MAHARASHTRA', 'Mumbai', 'Raigarh', 'Pune', 'Ahmadnagar', 'Bid', 'Latur', 'Osmanabad', 'Solapur', 'Satara', 'Ratnagiri', 'Sindhudurg', 'Kolhapur', 'Sangli'], 'ANDHRA PRADESH': ['Adilabad', 'Nizamabad', 'Karimnagar', 'Medak', 'ANDHRA PRADESH', 'Hyderabad', 'Rangareddy', 'Mahbubnagar', 'Nalgonda', 'Warangal', 'Khammam', 'Srikakulam', 'Vizianagaram', 'Visakhapatnam', 'East Godavari', 'West Godavari', 'Krishna', 'Guntur', 'Prakasam', 'Sri Potti Sriramulu Nellore', 'Y.S.R.', 'Kurnool', 'Anantapur', 'Chittoor'], 'KARNATAKA': ['Belgaum', 'Bagalkot ', 'Bijapur', 'Bidar', 'Raichur', 'Koppal', 'Gadag', 'Dharwad', 'Uttara Kannada', 'Haveri', 'Bellary', 'Chitradurga', 'Davanagere', 'Shimoga', 'Udupi', 'Chikmagalur', 'Tumkur', 'Bangalore', 'Mandya', 'Hassan', 'Dakshina Kannada', 'Kodagu', 'Mysore', 'Chamarajanagar', 'Gulbarga', 'Yadgir', 'Kolar', 'Chikkaballapura', 'Bangalore Rural', 'Ramanagara'], 'GOA': ['North Goa', 'South Goa'], 'LAKSHADWEEP': ['Lakshadweep'], 'KERALA': ['Kasaragod', 'Kannur', 'Wayanad', 'Kozhikode', 'Malappuram', 'Palakkad', 'Thrissur', 'Ernakulam', 'Idukki ', 'Kottayam', 'Alappuzha', 'Pathanamthitta', 'Kollam', 'Thiruvananthapuram'], 'TAMIL NADU': ['Thiruvallur', 'Chennai', 'Kancheepuram', 'Vellore', 'Tiruvannamalai', 'Viluppuram', 'Salem', 'Namakkal   ', 'Erode', 'The Nilgiris', 'Dindigul', 'Karur ', 'Tiruchirappalli', 'Perambalur  ', 'Ariyalur  ', 'Cuddalore', 'Nagapattinam  ', 'Thiruvarur', 'Thanjavur', 'Pudukkottai', 'Sivaganga', 'Madurai', 'Theni  ', 'Virudhunagar', 'Ramanathapuram', 'Thoothukkudi', 'Tirunelveli ', 'Kanniyakumari', 'Dharmapuri', 'Krishnagiri', 'Coimbatore', 'Tiruppur'], 'PUDUCHERRY': ['Yanam', 'Puducherry', 'Mahe', 'Karaikal']}\n"
    }
   ],
   "source": [
    "print(lookup)"
   ]
  },
  {
   "cell_type": "code",
   "execution_count": 71,
   "metadata": {
    "tags": []
   },
   "outputs": [
    {
     "output_type": "stream",
     "name": "stdout",
     "text": "{\"JAMMU & KASHMIR\": [\"Kupwara\", \"Badgam\", \"Leh(Ladakh)\", \"Kargil\", \"Punch\", \"Rajouri\", \"Kathua\", \"Baramula\", \"Bandipore\", \"Srinagar\", \"Ganderbal\", \"Pulwama\", \"Shupiyan\", \"Anantnag\", \"Kulgam\", \"Doda\", \"Ramban\", \"Kishtwar\", \"Udhampur\", \"Reasi\", \"Jammu\", \"Samba\"], \"HIMACHAL PRADESH\": [\"Chamba\", \"Kangra\", \"Lahul & Spiti\", \"Kullu\", \"Mandi\", \"Hamirpur\", \"Una\", \"Bilaspur\", \"Solan\", \"Sirmaur\", \"Shimla\", \"Kinnaur\"], \"PUNJAB\": [\"Gurdaspur\", \"Kapurthala \", \"Jalandhar\", \"Hoshiarpur\", \"Shahid Bhagat Singh Nagar \", \"Fatehgarh Sahib\", \"Ludhiana\", \"Moga\", \"Firozpur\", \"Muktsar\", \"Faridkot\", \"Bathinda\", \"Mansa\", \"Patiala\", \"Amritsar \", \"Tarn Taran\", \"Rupnagar\", \"Sahibzada Ajit Singh Nagar\", \"Sangrur\", \"Barnala\"], \"CHANDIGARH\": [\"Chandigarh\"], \"UTTARAKHAND\": [\"Uttarkashi\", \"Chamoli\", \"Rudraprayag\", \"Tehri Garhwal\", \"UTTARAKHAND\", \"Dehradun\", \"Garhwal\", \"Pithoragarh\", \"Bageshwar\", \"Almora\", \"Champawat\", \"Nainital\", \"Udham Singh Nagar\", \"Hardwar\"], \"HARYANA\": [\"Panchkula\", \"Ambala\", \"Yamunanagar\", \"Kurukshetra\", \"Kaithal\", \"Karnal\", \"Panipat\", \"Sonipat\", \"Jind\", \"Fatehabad\", \"Sirsa\", \"Hisar\", \"Bhiwani\", \"Rohtak\", \"Jhajjar\", \"Mahendragarh\", \"Rewari\", \"Gurgaon\", \"Mewat \", \"Faridabad\", \"Palwal \"], \"NCT OF DELHI\": [\"North West\", \"NCT OF DELHI\", \"North\", \"North East\", \"East\", \"New Delhi\", \"Central\", \"West\", \"South West\", \"South\"], \"UTTAR PRADESH\": [\"Saharanpur\", \"Muzaffarnagar\", \"Bijnor\", \"Moradabad\", \"Rampur\", \"Jyotiba Phule Nagar\", \"Meerut\", \"Baghpat\", \"Ghaziabad\", \"Gautam Buddha Nagar\", \"Bulandshahr \", \"Aligarh\", \"Mahamaya Nagar\", \"Mathura\", \"Agra\", \"Firozabad\", \"Mainpuri\", \"Budaun\", \"Bareilly\", \"Pilibhit\", \"Shahjahanpur\", \"Kheri\", \"Sitapur\", \"Hardoi\", \"Unnao\", \"Lucknow\", \"Rae Bareli\", \"Farrukhabad\", \"Kannauj\", \"Etawah\", \"Auraiya\", \"Kanpur Dehat\", \"Kanpur Nagar\", \"Jalaun \", \"Jhansi\", \"Lalitpur\", \"Hamirpur\", \"Mahoba\", \"Banda\", \"Chitrakoot\", \"Fatehpur\", \"Pratapgarh\", \"Kaushambi\", \"Allahabad \", \"Bara Banki\", \"Faizabad\", \"Ambedkar Nagar\", \"Sultanpur\", \"Bahraich\", \"Shrawasti\", \"Balrampur\", \"Gonda\", \"Siddharthnagar\", \"Basti\", \"Sant Kabir Nagar\", \"Mahrajganj\", \"Gorakhpur\", \"Kushinagar\", \"Deoria\", \"Azamgarh\", \"Mau\", \"Ballia\", \"Jaunpur\", \"Ghazipur\", \"Chandauli\", \"Varanasi\", \"Sant Ravidas Nagar (Bhadohi)\", \"Mirzapur\", \"Sonbhadra\", \"Etah\", \"Kanshiram Nagar\"], \"BIHAR\": [\"Pashchim Champaran\", \"Purba Champaran\", \"Sheohar\", \"Sitamarhi\", \"Madhubani\", \"Supaul\", \"Araria\", \"Kishanganj\", \"Purnia\", \"Katihar\", \"Madhepura\", \"Saharsa\", \"Darbhanga\", \"Muzaffarpur\", \"Gopalganj\", \"Siwan\", \"Saran\", \"Vaishali\", \"Samastipur\", \"Begusarai\", \"Khagaria\", \"Bhagalpur\", \"Banka\", \"Munger\", \"Lakhisarai\", \"Sheikhpura\", \"Nalanda\", \"Patna\", \"Bhojpur\", \"Buxar\", \"Kaimur (Bhabua)\", \"Rohtas\", \"Aurangabad\", \"Gaya\", \"Nawada\", \"Jamui\", \"Jehanabad \", \"Arwal\"], \"SIKKIM\": [\"North  District\", \"West District\", \"South District\", \"East District\"], \"ARUNACHAL PRADESH\": [\"Tawang\", \"West Kameng\", \"East Kameng\", \"Papum Pare\", \"Upper Subansiri\", \"West Siang\", \"East Siang\", \"Upper Siang\", \"Changlang\", \"Tirap\", \"Lower Subansiri\", \"Kurung Kumey\", \"Dibang Valley\", \"Lower Dibang Valley\", \"Lohit\", \"Anjaw\"], \"NAGALAND\": [\"Mon\", \"Mokokchung\", \"Zunheboto\", \"Wokha\", \"Dimapur \", \"Phek\", \"Tuensang\", \"Longleng\", \"Kiphire\", \"Kohima\", \"Peren\"], \"MANIPUR\": [\"Senapati\", \"Tamenglong \", \"Churachandpur\", \"Bishnupur\", \"MANIPUR\", \"Thoubal\", \"Imphal West\", \"Imphal East\", \"Ukhrul\", \"Chandel\"], \"MIZORAM\": [\"Mamit\", \"Kolasib\", \"Aizawl\", \"Champhai\", \"Serchhip\", \"Lunglei\", \"Lawngtlai\", \"Saiha\"], \"TRIPURA\": [\"West Tripura \", \"South Tripura \", \"Dhalai\", \"North Tripura\"], \"MEGHALAYA\": [\"West Garo Hills\", \"East Garo Hills\", \"South Garo Hills\", \"West Khasi Hills\", \"Ribhoi\", \"East Khasi Hills\", \"Jaintia Hills\"], \"ASSAM\": [\"Kokrajhar\", \"Dhubri\", \"Goalpara\", \"Barpeta\", \"Morigaon\", \"Nagaon\", \"Sonitpur\", \"Lakhimpur\", \"Dhemaji\", \"Tinsukia\", \"Dibrugarh\", \"Sivasagar\", \"Jorhat\", \"Golaghat\", \"Karbi Anglong\", \"Dima Hasao\", \"Cachar\", \"Karimganj\", \"Hailakandi\", \"Bongaigaon\", \"Chirang\", \"Kamrup\", \"Kamrup Metropolitan\", \"Nalbari\", \"Baksa\", \"Darrang\", \"Udalguri\"], \"WEST BENGAL\": [\"Darjiling \", \"WEST BENGAL\", \"Jalpaiguri \", \"Koch Bihar \", \"Uttar Dinajpur\", \"Dakshin Dinajpur\", \"Maldah \", \"Murshidabad \", \"Birbhum\", \"Barddhaman \", \"Nadia \", \"North Twenty Four Parganas\", \"Hugli \", \"Bankura \", \"Puruliya\", \"Haora \", \"Kolkata\", \"South Twenty Four Parganas\", \"Paschim Medinipur\", \"Purba Medinipur\"], \"JHARKHAND\": [\"Garhwa \", \"Chatra\", \"Kodarma\", \"Giridih\", \"Deoghar\", \"Godda\", \"Sahibganj\", \"Pakur\", \"Dhanbad\", \"Bokaro\", \"Lohardaga\", \"Purbi Singhbhum\", \"Palamu\", \"Latehar\", \"Hazaribagh\", \"Ramgarh\", \"Dumka\", \"Jamtara\", \"Ranchi\", \"Khunti\", \"Gumla\", \"Simdega\", \"Pashchimi Singhbhum\", \"Saraikela-Kharsawan\"], \"ODISHA\": [\"Bargarh\", \"Jharsuguda\", \"Sambalpur\", \"Debagarh\", \"Sundargarh\", \"Kendujhar\", \"Mayurbhanj\", \"Baleshwar\", \"Bhadrak\", \"Kendrapara \", \"Jagatsinghapur \", \"Cuttack\", \"Jajapur  \", \"Dhenkanal\", \"Anugul  \", \"Nayagarh  \", \"Khordha \", \"Puri\", \"Ganjam\", \"Gajapati\", \"Kandhamal\", \"Baudh\", \"Subarnapur\", \"Balangir\", \"Nuapada\", \"Kalahandi\", \"Rayagada  \", \"Nabarangapur \", \"Koraput\", \"Malkangiri  \"], \"CHHATTISGARH\": [\"Koriya\", \"Surguja\", \"Jashpur \", \"Raigarh\", \"Korba \", \"Janjgir - Champa\", \"Bilaspur\", \"Kabeerdham\", \"Rajnandgaon\", \"Durg\", \"Raipur\", \"Mahasamund\", \"Dhamtari \", \"Uttar Bastar Kanker\", \"Bastar\", \"Narayanpur\", \"Dakshin Bastar Dantewada\", \"Bijapur\"], \"MADHYA PRADESH\": [\"Sheopur \", \"Morena\", \"Bhind\", \"Gwalior\", \"Datia\", \"Shivpuri\", \"Tikamgarh\", \"Chhatarpur\", \"Panna\", \"Sagar\", \"Damoh\", \"Satna\", \"Rewa\", \"Umaria\", \"Neemuch \", \"Mandsaur\", \"Ratlam\", \"Ujjain\", \"Shajapur\", \"Dewas\", \"Dhar\", \"Indore\", \"Khargone (West Nimar)\", \"Barwani \", \"Rajgarh\", \"Vidisha\", \"Bhopal\", \"Sehore\", \"Raisen\", \"Betul\", \"Harda \", \"Hoshangabad\", \"Katni \", \"Jabalpur\", \"Narsimhapur\", \"Dindori \", \"Mandla\", \"Chhindwara\", \"Seoni\", \"Balaghat\", \"Guna\", \"Ashoknagar\", \"Shahdol\", \"Anuppur\", \"Sidhi\", \"Singrauli\", \"Jhabua\", \"Alirajpur\", \"Khandwa (East Nimar)\", \"Burhanpur\"], \"GUJARAT\": [\"Kachchh\", \"Banas Kantha\", \"Patan  \", \"Mahesana\", \"Sabar Kantha\", \"Gandhinagar\", \"Ahmadabad\", \"Surendranagar\", \"Rajkot\", \"Jamnagar\", \"Porbandar \", \"Junagadh\", \"Amreli\", \"Bhavnagar\", \"Anand  \", \"Kheda\", \"Panch Mahals\", \"Dohad  \", \"Vadodara\", \"Narmada\", \"Bharuch\", \"The Dangs\", \"Navsari  \", \"Valsad\", \"Surat\", \"Tapi\"], \"DAMAN & DIU\": [\"Diu\", \"Daman\"], \"DADRA & NAGAR HAVELI\": [\"Dadra & Nagar Haveli\"], \"MAHARASHTRA\": [\"Nandurbar\", \"Dhule\", \"Jalgaon\", \"Buldana\", \"Akola\", \"Washim\", \"Amravati\", \"Wardha\", \"Nagpur\", \"Bhandara\", \"Gondiya\", \"Gadchiroli\", \"Chandrapur\", \"Yavatmal\", \"Nanded\", \"Hingoli\", \"Parbhani\", \"Jalna\", \"Aurangabad\", \"Nashik\", \"Thane\", \"Mumbai Suburban\", \"MAHARASHTRA\", \"Mumbai\", \"Raigarh\", \"Pune\", \"Ahmadnagar\", \"Bid\", \"Latur\", \"Osmanabad\", \"Solapur\", \"Satara\", \"Ratnagiri\", \"Sindhudurg\", \"Kolhapur\", \"Sangli\"], \"ANDHRA PRADESH\": [\"Adilabad\", \"Nizamabad\", \"Karimnagar\", \"Medak\", \"ANDHRA PRADESH\", \"Hyderabad\", \"Rangareddy\", \"Mahbubnagar\", \"Nalgonda\", \"Warangal\", \"Khammam\", \"Srikakulam\", \"Vizianagaram\", \"Visakhapatnam\", \"East Godavari\", \"West Godavari\", \"Krishna\", \"Guntur\", \"Prakasam\", \"Sri Potti Sriramulu Nellore\", \"Y.S.R.\", \"Kurnool\", \"Anantapur\", \"Chittoor\"], \"KARNATAKA\": [\"Belgaum\", \"Bagalkot \", \"Bijapur\", \"Bidar\", \"Raichur\", \"Koppal\", \"Gadag\", \"Dharwad\", \"Uttara Kannada\", \"Haveri\", \"Bellary\", \"Chitradurga\", \"Davanagere\", \"Shimoga\", \"Udupi\", \"Chikmagalur\", \"Tumkur\", \"Bangalore\", \"Mandya\", \"Hassan\", \"Dakshina Kannada\", \"Kodagu\", \"Mysore\", \"Chamarajanagar\", \"Gulbarga\", \"Yadgir\", \"Kolar\", \"Chikkaballapura\", \"Bangalore Rural\", \"Ramanagara\"], \"GOA\": [\"North Goa\", \"South Goa\"], \"LAKSHADWEEP\": [\"Lakshadweep\"], \"KERALA\": [\"Kasaragod\", \"Kannur\", \"Wayanad\", \"Kozhikode\", \"Malappuram\", \"Palakkad\", \"Thrissur\", \"Ernakulam\", \"Idukki \", \"Kottayam\", \"Alappuzha\", \"Pathanamthitta\", \"Kollam\", \"Thiruvananthapuram\"], \"TAMIL NADU\": [\"Thiruvallur\", \"Chennai\", \"Kancheepuram\", \"Vellore\", \"Tiruvannamalai\", \"Viluppuram\", \"Salem\", \"Namakkal   \", \"Erode\", \"The Nilgiris\", \"Dindigul\", \"Karur \", \"Tiruchirappalli\", \"Perambalur  \", \"Ariyalur  \", \"Cuddalore\", \"Nagapattinam  \", \"Thiruvarur\", \"Thanjavur\", \"Pudukkottai\", \"Sivaganga\", \"Madurai\", \"Theni  \", \"Virudhunagar\", \"Ramanathapuram\", \"Thoothukkudi\", \"Tirunelveli \", \"Kanniyakumari\", \"Dharmapuri\", \"Krishnagiri\", \"Coimbatore\", \"Tiruppur\"], \"PUDUCHERRY\": [\"Yanam\", \"Puducherry\", \"Mahe\", \"Karaikal\"]}\n"
    }
   ],
   "source": [
    "jsonData = json.dumps(lookup)\n",
    "print(jsonData)"
   ]
  },
  {
   "cell_type": "code",
   "execution_count": 74,
   "metadata": {},
   "outputs": [],
   "source": [
    "os.chdir(\"C:\\\\Users\\\\shubh\\\\Desktop\\\\countryData\")\n",
    "outFile = open(\"output.json\",\"w\")\n",
    "outFile.write(jsonData)\n",
    "outFile.close()"
   ]
  },
  {
   "cell_type": "code",
   "execution_count": null,
   "metadata": {},
   "outputs": [],
   "source": []
  }
 ]
}